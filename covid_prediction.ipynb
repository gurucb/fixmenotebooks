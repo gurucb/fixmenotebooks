{
  "nbformat": 4,
  "nbformat_minor": 2,
  "metadata": {
    "kernelspec": {
      "name": "synapse_pyspark",
      "display_name": "Synapse PySpark"
    },
    "language_info": {
      "name": "python"
    },
    "description": null,
    "save_output": true,
    "synapse_widget": {
      "version": "0.1",
      "state": {}
    }
  },
  "cells": [
    {
      "cell_type": "code",
      "execution_count": 15,
      "outputs": [
        {
          "output_type": "display_data",
          "data": {
            "application/vnd.livy.statement-meta+json": {
              "spark_pool": "fixmespark",
              "session_id": "31",
              "statement_id": 16,
              "state": "finished",
              "livy_statement_state": "available",
              "queued_time": "2022-08-10T10:49:29.8933003Z",
              "session_start_time": null,
              "execution_start_time": "2022-08-10T10:49:30.019387Z",
              "execution_finish_time": "2022-08-10T10:49:30.1594256Z",
              "spark_jobs": null
            },
            "text/plain": "StatementMeta(fixmespark, 31, 16, Finished, Available)"
          },
          "metadata": {}
        }
      ],
      "metadata": {},
      "source": [
        "import numpy as np\r\n",
        "from pyspark.sql.functions import *\r\n",
        "from pyspark.sql.types import *\r\n",
        "from pyspark.ml.feature import StringIndexer\r\n",
        "from matplotlib import pyplot as plt"
      ]
    },
    {
      "cell_type": "code",
      "execution_count": 16,
      "outputs": [
        {
          "output_type": "display_data",
          "data": {
            "application/vnd.livy.statement-meta+json": {
              "spark_pool": "fixmespark",
              "session_id": "31",
              "statement_id": 17,
              "state": "finished",
              "livy_statement_state": "available",
              "queued_time": "2022-08-10T10:49:29.9563554Z",
              "session_start_time": null,
              "execution_start_time": "2022-08-10T10:49:30.2664286Z",
              "execution_finish_time": "2022-08-10T10:49:37.0959648Z",
              "spark_jobs": null
            },
            "text/plain": "StatementMeta(fixmespark, 31, 17, Finished, Available)"
          },
          "metadata": {}
        }
      ],
      "metadata": {
        "jupyter": {
          "source_hidden": false,
          "outputs_hidden": false
        },
        "nteract": {
          "transient": {
            "deleting": false
          }
        }
      },
      "source": [
        "## Reading Data\r\n",
        "df = spark.read.load('abfss://fixme@fixmeadlsstorage.dfs.core.windows.net/covid_data.csv', format='csv',header='true')"
      ]
    },
    {
      "cell_type": "code",
      "execution_count": 17,
      "outputs": [
        {
          "output_type": "display_data",
          "data": {
            "application/vnd.livy.statement-meta+json": {
              "spark_pool": "fixmespark",
              "session_id": "31",
              "statement_id": 18,
              "state": "finished",
              "livy_statement_state": "available",
              "queued_time": "2022-08-10T10:49:30.023207Z",
              "session_start_time": null,
              "execution_start_time": "2022-08-10T10:49:37.2091943Z",
              "execution_finish_time": "2022-08-10T10:49:39.0842588Z",
              "spark_jobs": null
            },
            "text/plain": "StatementMeta(fixmespark, 31, 18, Finished, Available)"
          },
          "metadata": {}
        },
        {
          "output_type": "execute_result",
          "data": {
            "text/plain": "  summary                 id     location      country gender  \\\n0   count               1085         1085         1085   1085   \n1    mean              543.0         None         None   None   \n2  stddev  313.3568253604826         None         None   None   \n3     min                  1  Afghanistan  Afghanistan     NA   \n4     max                999       Zhuhai      Vietnam   male   \n\n                  age     sym_on  hosp_vis            vis_wuhan  \\\n0                1085       1085      1085                 1085   \n1  49.483689205219456       None      None  0.17695852534562212   \n2  18.255334307343926       None      None  0.38180959099585343   \n3                0.25  1/10/2020  1/1/2020                    0   \n4                  NA         NA        NA                    1   \n\n            from_wuhan                death                recov  symptom1  \\\n0                 1085                 1085                 1085      1085   \n1  0.14431082331174838  0.05806451612903226  0.14654377880184333      None   \n2   0.3515672734255259  0.23397325257110071    0.353813618626474      None   \n3                    0                    0                    0        NA   \n4                   NA                    1                    1  vomiting   \n\n          symptom2         symptom3 symptom4 symptom5   symptom6  \n0             1085             1085     1085     1085       1085  \n1             None             None     None     None       None  \n2             None             None     None     None       None  \n3   abdominal pain   breathlessness    cough    cough   diarrhea  \n4               NA               NA       NA       NA         NA  ",
            "text/html": "<div>\n<style scoped>\n    .dataframe tbody tr th:only-of-type {\n        vertical-align: middle;\n    }\n\n    .dataframe tbody tr th {\n        vertical-align: top;\n    }\n\n    .dataframe thead th {\n        text-align: right;\n    }\n</style>\n<table border=\"1\" class=\"dataframe\">\n  <thead>\n    <tr style=\"text-align: right;\">\n      <th></th>\n      <th>summary</th>\n      <th>id</th>\n      <th>location</th>\n      <th>country</th>\n      <th>gender</th>\n      <th>age</th>\n      <th>sym_on</th>\n      <th>hosp_vis</th>\n      <th>vis_wuhan</th>\n      <th>from_wuhan</th>\n      <th>death</th>\n      <th>recov</th>\n      <th>symptom1</th>\n      <th>symptom2</th>\n      <th>symptom3</th>\n      <th>symptom4</th>\n      <th>symptom5</th>\n      <th>symptom6</th>\n    </tr>\n  </thead>\n  <tbody>\n    <tr>\n      <th>0</th>\n      <td>count</td>\n      <td>1085</td>\n      <td>1085</td>\n      <td>1085</td>\n      <td>1085</td>\n      <td>1085</td>\n      <td>1085</td>\n      <td>1085</td>\n      <td>1085</td>\n      <td>1085</td>\n      <td>1085</td>\n      <td>1085</td>\n      <td>1085</td>\n      <td>1085</td>\n      <td>1085</td>\n      <td>1085</td>\n      <td>1085</td>\n      <td>1085</td>\n    </tr>\n    <tr>\n      <th>1</th>\n      <td>mean</td>\n      <td>543.0</td>\n      <td>None</td>\n      <td>None</td>\n      <td>None</td>\n      <td>49.483689205219456</td>\n      <td>None</td>\n      <td>None</td>\n      <td>0.17695852534562212</td>\n      <td>0.14431082331174838</td>\n      <td>0.05806451612903226</td>\n      <td>0.14654377880184333</td>\n      <td>None</td>\n      <td>None</td>\n      <td>None</td>\n      <td>None</td>\n      <td>None</td>\n      <td>None</td>\n    </tr>\n    <tr>\n      <th>2</th>\n      <td>stddev</td>\n      <td>313.3568253604826</td>\n      <td>None</td>\n      <td>None</td>\n      <td>None</td>\n      <td>18.255334307343926</td>\n      <td>None</td>\n      <td>None</td>\n      <td>0.38180959099585343</td>\n      <td>0.3515672734255259</td>\n      <td>0.23397325257110071</td>\n      <td>0.353813618626474</td>\n      <td>None</td>\n      <td>None</td>\n      <td>None</td>\n      <td>None</td>\n      <td>None</td>\n      <td>None</td>\n    </tr>\n    <tr>\n      <th>3</th>\n      <td>min</td>\n      <td>1</td>\n      <td>Afghanistan</td>\n      <td>Afghanistan</td>\n      <td>NA</td>\n      <td>0.25</td>\n      <td>1/10/2020</td>\n      <td>1/1/2020</td>\n      <td>0</td>\n      <td>0</td>\n      <td>0</td>\n      <td>0</td>\n      <td>NA</td>\n      <td>abdominal pain</td>\n      <td>breathlessness</td>\n      <td>cough</td>\n      <td>cough</td>\n      <td>diarrhea</td>\n    </tr>\n    <tr>\n      <th>4</th>\n      <td>max</td>\n      <td>999</td>\n      <td>Zhuhai</td>\n      <td>Vietnam</td>\n      <td>male</td>\n      <td>NA</td>\n      <td>NA</td>\n      <td>NA</td>\n      <td>1</td>\n      <td>NA</td>\n      <td>1</td>\n      <td>1</td>\n      <td>vomiting</td>\n      <td>NA</td>\n      <td>NA</td>\n      <td>NA</td>\n      <td>NA</td>\n      <td>NA</td>\n    </tr>\n  </tbody>\n</table>\n</div>"
          },
          "execution_count": 55,
          "metadata": {}
        }
      ],
      "metadata": {
        "jupyter": {
          "source_hidden": false,
          "outputs_hidden": false
        },
        "nteract": {
          "transient": {
            "deleting": false
          }
        }
      },
      "source": [
        "df.describe().toPandas()"
      ]
    },
    {
      "cell_type": "code",
      "execution_count": 18,
      "outputs": [
        {
          "output_type": "display_data",
          "data": {
            "application/vnd.livy.statement-meta+json": {
              "spark_pool": "fixmespark",
              "session_id": "31",
              "statement_id": 19,
              "state": "finished",
              "livy_statement_state": "available",
              "queued_time": "2022-08-10T10:49:30.1052455Z",
              "session_start_time": null,
              "execution_start_time": "2022-08-10T10:49:39.1972325Z",
              "execution_finish_time": "2022-08-10T10:49:40.5733585Z",
              "spark_jobs": null
            },
            "text/plain": "StatementMeta(fixmespark, 31, 19, Finished, Available)"
          },
          "metadata": {}
        },
        {
          "output_type": "execute_result",
          "data": {
            "text/plain": "['id',\n 'location',\n 'country',\n 'gender',\n 'age',\n 'sym_on',\n 'hosp_vis',\n 'vis_wuhan',\n 'from_wuhan',\n 'death',\n 'recov',\n 'symptom1',\n 'symptom2',\n 'symptom3',\n 'symptom4',\n 'symptom5',\n 'symptom6',\n 'location_indexed',\n 'country_indexed',\n 'gender_indexed',\n 'symptom1_indexed',\n 'symptom2_indexed',\n 'symptom3_indexed',\n 'symptom4_indexed',\n 'symptom5_indexed',\n 'symptom6_indexed']"
          },
          "execution_count": 58,
          "metadata": {}
        }
      ],
      "metadata": {
        "jupyter": {
          "source_hidden": false,
          "outputs_hidden": false
        },
        "nteract": {
          "transient": {
            "deleting": false
          }
        }
      },
      "source": [
        "string_indexer = StringIndexer(inputCols=['location','country', 'gender', 'symptom1', 'symptom2', 'symptom3', 'symptom4','symptom5','symptom6'], \r\n",
        "outputCols=['location_indexed','country_indexed', 'gender_indexed', 'symptom1_indexed', 'symptom2_indexed', 'symptom3_indexed', 'symptom4_indexed','symptom5_indexed','symptom6_indexed'])\r\n",
        "df = string_indexer.fit(df).transform(df)\r\n",
        "df.columns"
      ]
    },
    {
      "cell_type": "code",
      "execution_count": 19,
      "outputs": [
        {
          "output_type": "display_data",
          "data": {
            "application/vnd.livy.statement-meta+json": {
              "spark_pool": "fixmespark",
              "session_id": "31",
              "statement_id": 20,
              "state": "finished",
              "livy_statement_state": "available",
              "queued_time": "2022-08-10T10:49:30.1893968Z",
              "session_start_time": null,
              "execution_start_time": "2022-08-10T10:49:40.6773595Z",
              "execution_finish_time": "2022-08-10T10:49:40.8192958Z",
              "spark_jobs": null
            },
            "text/plain": "StatementMeta(fixmespark, 31, 20, Finished, Available)"
          },
          "metadata": {}
        }
      ],
      "metadata": {
        "jupyter": {
          "source_hidden": false,
          "outputs_hidden": false
        },
        "nteract": {
          "transient": {
            "deleting": false
          }
        }
      },
      "source": [
        "diff_sym_hos = unix_timestamp(col(\"hosp_vis\"),\"M/d/yyyy\")-unix_timestamp(col(\"sym_on\"),\"M/d/yyyy\")\r\n",
        "df = df.withColumn('diff_sym_hos', diff_sym_hos)"
      ]
    },
    {
      "cell_type": "code",
      "execution_count": 20,
      "outputs": [
        {
          "output_type": "display_data",
          "data": {
            "application/vnd.livy.statement-meta+json": {
              "spark_pool": "fixmespark",
              "session_id": "31",
              "statement_id": 21,
              "state": "finished",
              "livy_statement_state": "available",
              "queued_time": "2022-08-10T10:49:30.3434501Z",
              "session_start_time": null,
              "execution_start_time": "2022-08-10T10:49:40.9766421Z",
              "execution_finish_time": "2022-08-10T10:49:41.1200501Z",
              "spark_jobs": null
            },
            "text/plain": "StatementMeta(fixmespark, 31, 21, Finished, Available)"
          },
          "metadata": {}
        },
        {
          "output_type": "stream",
          "name": "stdout",
          "text": [
            "root\n |-- id: string (nullable = true)\n |-- location: string (nullable = true)\n |-- country: string (nullable = true)\n |-- gender: string (nullable = true)\n |-- age: string (nullable = true)\n |-- sym_on: string (nullable = true)\n |-- hosp_vis: string (nullable = true)\n |-- vis_wuhan: string (nullable = true)\n |-- from_wuhan: string (nullable = true)\n |-- death: string (nullable = true)\n |-- recov: string (nullable = true)\n |-- symptom1: string (nullable = true)\n |-- symptom2: string (nullable = true)\n |-- symptom3: string (nullable = true)\n |-- symptom4: string (nullable = true)\n |-- symptom5: string (nullable = true)\n |-- symptom6: string (nullable = true)\n |-- location_indexed: double (nullable = false)\n |-- country_indexed: double (nullable = false)\n |-- gender_indexed: double (nullable = false)\n |-- symptom1_indexed: double (nullable = false)\n |-- symptom2_indexed: double (nullable = false)\n |-- symptom3_indexed: double (nullable = false)\n |-- symptom4_indexed: double (nullable = false)\n |-- symptom5_indexed: double (nullable = false)\n |-- symptom6_indexed: double (nullable = false)\n |-- diff_sym_hos: long (nullable = true)\n\n"
          ]
        }
      ],
      "metadata": {
        "jupyter": {
          "source_hidden": false,
          "outputs_hidden": false
        },
        "nteract": {
          "transient": {
            "deleting": false
          }
        }
      },
      "source": [
        "df.printSchema()"
      ]
    },
    {
      "cell_type": "code",
      "execution_count": 21,
      "outputs": [
        {
          "output_type": "display_data",
          "data": {
            "application/vnd.livy.statement-meta+json": {
              "spark_pool": "fixmespark",
              "session_id": "31",
              "statement_id": 22,
              "state": "finished",
              "livy_statement_state": "available",
              "queued_time": "2022-08-10T10:49:30.5097991Z",
              "session_start_time": null,
              "execution_start_time": "2022-08-10T10:49:41.2760458Z",
              "execution_finish_time": "2022-08-10T10:49:41.4575043Z",
              "spark_jobs": null
            },
            "text/plain": "StatementMeta(fixmespark, 31, 22, Finished, Available)"
          },
          "metadata": {}
        },
        {
          "output_type": "stream",
          "name": "stdout",
          "text": [
            "root\n |-- id: string (nullable = true)\n |-- location: string (nullable = true)\n |-- country: string (nullable = true)\n |-- gender: string (nullable = true)\n |-- age: integer (nullable = true)\n |-- sym_on: string (nullable = true)\n |-- hosp_vis: string (nullable = true)\n |-- vis_wuhan: integer (nullable = true)\n |-- from_wuhan: integer (nullable = true)\n |-- death: integer (nullable = true)\n |-- recov: string (nullable = true)\n |-- symptom1: string (nullable = true)\n |-- symptom2: string (nullable = true)\n |-- symptom3: string (nullable = true)\n |-- symptom4: string (nullable = true)\n |-- symptom5: string (nullable = true)\n |-- symptom6: string (nullable = true)\n |-- location_indexed: double (nullable = false)\n |-- country_indexed: double (nullable = false)\n |-- gender_indexed: double (nullable = false)\n |-- symptom1_indexed: double (nullable = false)\n |-- symptom2_indexed: double (nullable = false)\n |-- symptom3_indexed: double (nullable = false)\n |-- symptom4_indexed: double (nullable = false)\n |-- symptom5_indexed: double (nullable = false)\n |-- symptom6_indexed: double (nullable = false)\n |-- diff_sym_hos: long (nullable = true)\n\n"
          ]
        }
      ],
      "metadata": {
        "jupyter": {
          "source_hidden": false,
          "outputs_hidden": false
        },
        "nteract": {
          "transient": {
            "deleting": false
          }
        }
      },
      "source": [
        "df = df.withColumn(\"age\", col(\"age\").cast(\"Integer\"))\r\n",
        "df = df.withColumn(\"vis_wuhan\", col(\"vis_wuhan\").cast(\"Integer\"))\r\n",
        "df = df.withColumn(\"from_wuhan\", col(\"from_wuhan\").cast(\"Integer\"))\r\n",
        "df = df.withColumn(\"death\", col(\"death\").cast(\"Integer\"))\r\n",
        "df = df.fillna(value=50, subset=['age'])\r\n",
        "df.printSchema()"
      ]
    },
    {
      "cell_type": "code",
      "execution_count": 22,
      "outputs": [
        {
          "output_type": "display_data",
          "data": {
            "application/vnd.livy.statement-meta+json": {
              "spark_pool": "fixmespark",
              "session_id": "31",
              "statement_id": 23,
              "state": "finished",
              "livy_statement_state": "available",
              "queued_time": "2022-08-10T10:49:30.9116537Z",
              "session_start_time": null,
              "execution_start_time": "2022-08-10T10:49:41.5666582Z",
              "execution_finish_time": "2022-08-10T10:49:41.7232651Z",
              "spark_jobs": null
            },
            "text/plain": "StatementMeta(fixmespark, 31, 23, Finished, Available)"
          },
          "metadata": {}
        },
        {
          "output_type": "execute_result",
          "data": {
            "text/plain": "DataFrame[id: string, location: string, country: string, gender: string, age: int, sym_on: string, hosp_vis: string, vis_wuhan: int, from_wuhan: int, death: int, recov: string, symptom1: string, symptom2: string, symptom3: string, symptom4: string, symptom5: string, symptom6: string, location_indexed: double, country_indexed: double, gender_indexed: double, symptom1_indexed: double, symptom2_indexed: double, symptom3_indexed: double, symptom4_indexed: double, symptom5_indexed: double, symptom6_indexed: double, diff_sym_hos: bigint]"
          },
          "execution_count": 70,
          "metadata": {}
        }
      ],
      "metadata": {
        "jupyter": {
          "source_hidden": false,
          "outputs_hidden": false
        },
        "nteract": {
          "transient": {
            "deleting": false
          }
        }
      },
      "source": [
        "df = df.fillna(np.nan)\r\n",
        "df.limit(10)"
      ]
    },
    {
      "cell_type": "code",
      "execution_count": 23,
      "outputs": [
        {
          "output_type": "display_data",
          "data": {
            "application/vnd.livy.statement-meta+json": {
              "spark_pool": "fixmespark",
              "session_id": "31",
              "statement_id": 24,
              "state": "finished",
              "livy_statement_state": "available",
              "queued_time": "2022-08-10T10:49:31.1253556Z",
              "session_start_time": null,
              "execution_start_time": "2022-08-10T10:49:41.9208135Z",
              "execution_finish_time": "2022-08-10T10:49:42.0799594Z",
              "spark_jobs": null
            },
            "text/plain": "StatementMeta(fixmespark, 31, 24, Finished, Available)"
          },
          "metadata": {}
        }
      ],
      "metadata": {
        "jupyter": {
          "source_hidden": false,
          "outputs_hidden": false
        },
        "nteract": {
          "transient": {
            "deleting": false
          }
        }
      },
      "source": [
        "df = df.drop('id', 'location', 'gender', 'country', 'sym_on', 'hosp_vis', 'symptom1', 'symptom2', 'symptom3', 'symptom4', 'symptom5', 'symptom6')"
      ]
    },
    {
      "cell_type": "code",
      "execution_count": 24,
      "outputs": [
        {
          "output_type": "display_data",
          "data": {
            "application/vnd.livy.statement-meta+json": {
              "spark_pool": "fixmespark",
              "session_id": "31",
              "statement_id": 25,
              "state": "finished",
              "livy_statement_state": "available",
              "queued_time": "2022-08-10T10:49:31.2263206Z",
              "session_start_time": null,
              "execution_start_time": "2022-08-10T10:49:42.2674606Z",
              "execution_finish_time": "2022-08-10T10:49:42.4164126Z",
              "spark_jobs": null
            },
            "text/plain": "StatementMeta(fixmespark, 31, 25, Finished, Available)"
          },
          "metadata": {}
        }
      ],
      "metadata": {
        "jupyter": {
          "source_hidden": false,
          "outputs_hidden": false
        },
        "nteract": {
          "transient": {
            "deleting": false
          }
        }
      },
      "source": [
        "input_features = ['location_indexed','country_indexed','gender_indexed','age','vis_wuhan','from_wuhan','symptom1_indexed','symptom2_indexed','symptom3_indexed','symptom4_indexed','symptom5_indexed','symptom6_indexed','diff_sym_hos']\r\n",
        ""
      ]
    },
    {
      "cell_type": "code",
      "execution_count": 26,
      "outputs": [
        {
          "output_type": "display_data",
          "data": {
            "application/vnd.livy.statement-meta+json": {
              "spark_pool": "fixmespark",
              "session_id": "31",
              "statement_id": 27,
              "state": "finished",
              "livy_statement_state": "available",
              "queued_time": "2022-08-10T10:50:20.6408649Z",
              "session_start_time": null,
              "execution_start_time": "2022-08-10T10:50:20.7660597Z",
              "execution_finish_time": "2022-08-10T10:50:20.9170254Z",
              "spark_jobs": null
            },
            "text/plain": "StatementMeta(fixmespark, 31, 27, Finished, Available)"
          },
          "metadata": {}
        }
      ],
      "metadata": {
        "jupyter": {
          "source_hidden": false,
          "outputs_hidden": false
        },
        "nteract": {
          "transient": {
            "deleting": false
          }
        }
      },
      "source": [
        "from sklearn.tree import DecisionTreeClassifier\r\n",
        "from sklearn.model_selection import train_test_split\r\n",
        "from sklearn.tree import plot_tree\r\n",
        "from sklearn import metrics"
      ]
    },
    {
      "cell_type": "code",
      "execution_count": 25,
      "outputs": [
        {
          "output_type": "display_data",
          "data": {
            "application/vnd.livy.statement-meta+json": {
              "spark_pool": "fixmespark",
              "session_id": "31",
              "statement_id": 26,
              "state": "finished",
              "livy_statement_state": "available",
              "queued_time": "2022-08-10T10:50:06.8825042Z",
              "session_start_time": null,
              "execution_start_time": "2022-08-10T10:50:07.0020725Z",
              "execution_finish_time": "2022-08-10T10:50:08.0642233Z",
              "spark_jobs": null
            },
            "text/plain": "StatementMeta(fixmespark, 31, 26, Finished, Available)"
          },
          "metadata": {}
        }
      ],
      "metadata": {
        "jupyter": {
          "source_hidden": false,
          "outputs_hidden": false
        },
        "nteract": {
          "transient": {
            "deleting": false
          }
        }
      },
      "source": [
        "df = df.toPandas()\r\n",
        "input_cols = df[input_features]\r\n",
        "label = df.death\r\n",
        "X_train, X_test, y_train, y_test = train_test_split(input_cols, label, test_size=0.2, random_state=10)\r\n",
        "#train_data,test_data = transformed_data.randomSplit([0.8,0.2])\r\n",
        "dt = DecisionTreeClassifier(max_depth=2).fit(X_train, y_train)\r\n",
        ""
      ]
    },
    {
      "cell_type": "code",
      "execution_count": 13,
      "outputs": [
        {
          "output_type": "display_data",
          "data": {
            "application/vnd.livy.statement-meta+json": {
              "spark_pool": "fixmespark",
              "session_id": "31",
              "statement_id": 14,
              "state": "finished",
              "livy_statement_state": "available",
              "queued_time": "2022-08-10T10:47:46.8843445Z",
              "session_start_time": null,
              "execution_start_time": "2022-08-10T10:49:09.9611342Z",
              "execution_finish_time": "2022-08-10T10:49:10.5288489Z",
              "spark_jobs": null
            },
            "text/plain": "StatementMeta(fixmespark, 31, 14, Finished, Available)"
          },
          "metadata": {}
        },
        {
          "output_type": "display_data",
          "data": {
            "text/plain": "<Figure size 432x288 with 1 Axes>",
            "image/png": "[encoded data removed]"
          },
          "metadata": {
            "needs_background": "light"
          }
        }
      ],
      "metadata": {
        "jupyter": {
          "source_hidden": false,
          "outputs_hidden": false
        },
        "nteract": {
          "transient": {
            "deleting": false
          }
        }
      },
      "source": [
        "plot_tree(dt, filled=True)\r\n",
        "plt.title(\"Decision tree trained on all the Covid Data\")\r\n",
        "plt.show()\r\n",
        "# plt.savefig() GIVE THE PATH"
      ]
    },
    {
      "cell_type": "code",
      "execution_count": 27,
      "outputs": [
        {
          "output_type": "display_data",
          "data": {
            "application/vnd.livy.statement-meta+json": {
              "spark_pool": "fixmespark",
              "session_id": "31",
              "statement_id": 28,
              "state": "finished",
              "livy_statement_state": "available",
              "queued_time": "2022-08-10T10:55:53.7613113Z",
              "session_start_time": null,
              "execution_start_time": "2022-08-10T10:55:53.8854132Z",
              "execution_finish_time": "2022-08-10T10:55:54.0278206Z",
              "spark_jobs": null
            },
            "text/plain": "StatementMeta(fixmespark, 31, 28, Finished, Available)"
          },
          "metadata": {}
        },
        {
          "output_type": "stream",
          "name": "stdout",
          "text": [
            "Accuracy: 0.9631336405529954\nPrecision: 0.6\nRecall: 0.3333333333333333\nF1: 0.42857142857142855\n"
          ]
        }
      ],
      "metadata": {
        "jupyter": {
          "source_hidden": false,
          "outputs_hidden": false
        },
        "nteract": {
          "transient": {
            "deleting": false
          }
        }
      },
      "source": [
        "y_pred = dt.predict(X_test)\r\n",
        "accuracy = metrics.accuracy_score(y_test, y_pred)\r\n",
        "precision = metrics.precision_score(y_test, y_pred)\r\n",
        "recall = metrics.recall_score(y_test, y_pred)\r\n",
        "f1 = metrics.f1_score(y_test, y_pred)\r\n",
        "print(\"Accuracy:\",accuracy)\r\n",
        "print(\"Precision:\", precision)\r\n",
        "print(\"Recall:\", recall)\r\n",
        "print(\"F1:\", f1)"
      ]
    },
    {
      "cell_type": "code",
      "execution_count": 29,
      "outputs": [
        {
          "output_type": "display_data",
          "data": {
            "application/vnd.livy.statement-meta+json": {
              "spark_pool": "fixmespark",
              "session_id": "31",
              "statement_id": 30,
              "state": "finished",
              "livy_statement_state": "available",
              "queued_time": "2022-08-10T10:59:30.7034075Z",
              "session_start_time": null,
              "execution_start_time": "2022-08-10T10:59:30.8425718Z",
              "execution_finish_time": "2022-08-10T10:59:31.3336352Z",
              "spark_jobs": null
            },
            "text/plain": "StatementMeta(fixmespark, 31, 30, Finished, Available)"
          },
          "metadata": {}
        },
        {
          "output_type": "execute_result",
          "data": {
            "text/plain": "Text(0.5, 1.0, 'Evaluation Metrics for Decision Tree')"
          },
          "execution_count": 91,
          "metadata": {}
        },
        {
          "output_type": "display_data",
          "data": {
            "text/plain": "<Figure size 432x288 with 1 Axes>",
            "image/png": "[encoded data removed]"
          },
          "metadata": {
            "needs_background": "light"
          }
        }
      ],
      "metadata": {
        "jupyter": {
          "source_hidden": false,
          "outputs_hidden": false
        },
        "nteract": {
          "transient": {
            "deleting": false
          }
        }
      },
      "source": [
        "plt.bar(['Accuracy','F1 Score','Recall Score','Precision Score'],[accuracy,f1,recall,precision],color=['red','green','blue','yellow'])\r\n",
        "plt.plot([accuracy,f1,recall,precision],color='black')\r\n",
        "plt.title('Evaluation Metrics for Decision Tree')"
      ]
    },
    {
      "cell_type": "code",
      "execution_count": 14,
      "outputs": [
        {
          "output_type": "display_data",
          "data": {
            "application/vnd.livy.statement-meta+json": {
              "spark_pool": "fixmespark",
              "session_id": "31",
              "statement_id": 15,
              "state": "finished",
              "livy_statement_state": "available",
              "queued_time": "2022-08-10T10:47:46.8873467Z",
              "session_start_time": null,
              "execution_start_time": "2022-08-10T10:49:10.6337674Z",
              "execution_finish_time": "2022-08-10T10:49:11.1828867Z",
              "spark_jobs": null
            },
            "text/plain": "StatementMeta(fixmespark, 31, 15, Finished, Available)"
          },
          "metadata": {}
        },
        {
          "output_type": "error",
          "ename": "NameError",
          "evalue": "name 'dt_model' is not defined",
          "traceback": [
            "\u001b[0;31m---------------------------------------------------------------------------\u001b[0m",
            "\u001b[0;31mNameError\u001b[0m                                 Traceback (most recent call last)",
            "\u001b[0;32m<ipython-input-15-d6a1e4c>\u001b[0m in \u001b[0;36m<module>\u001b[0;34m\u001b[0m\n\u001b[0;32m----> 1\u001b[0;31m \u001b[0mdt_preds\u001b[0m \u001b[0;34m=\u001b[0m \u001b[0mdt_model\u001b[0m\u001b[0;34m.\u001b[0m\u001b[0mtransform\u001b[0m\u001b[0;34m(\u001b[0m\u001b[0mtest_data\u001b[0m\u001b[0;34m)\u001b[0m\u001b[0;34m\u001b[0m\u001b[0;34m\u001b[0m\u001b[0m\n\u001b[0m\u001b[1;32m      2\u001b[0m \u001b[0maccuracy_eval\u001b[0m \u001b[0;34m=\u001b[0m \u001b[0mMulticlassClassificationEvaluator\u001b[0m\u001b[0;34m(\u001b[0m\u001b[0mpredictionCol\u001b[0m\u001b[0;34m=\u001b[0m\u001b[0;34m'prediction'\u001b[0m\u001b[0;34m,\u001b[0m\u001b[0mmetricName\u001b[0m\u001b[0;34m=\u001b[0m\u001b[0;34m'accuracy'\u001b[0m\u001b[0;34m,\u001b[0m \u001b[0mlabelCol\u001b[0m\u001b[0;34m=\u001b[0m\u001b[0;34m'death'\u001b[0m\u001b[0;34m)\u001b[0m\u001b[0;34m\u001b[0m\u001b[0;34m\u001b[0m\u001b[0m\n\u001b[1;32m      3\u001b[0m \u001b[0mprecision_eval\u001b[0m \u001b[0;34m=\u001b[0m \u001b[0mMulticlassClassificationEvaluator\u001b[0m\u001b[0;34m(\u001b[0m\u001b[0mpredictionCol\u001b[0m\u001b[0;34m=\u001b[0m\u001b[0;34m'prediction'\u001b[0m\u001b[0;34m,\u001b[0m\u001b[0mmetricName\u001b[0m\u001b[0;34m=\u001b[0m\u001b[0;34m'weightedPrecision'\u001b[0m\u001b[0;34m,\u001b[0m \u001b[0mlabelCol\u001b[0m\u001b[0;34m=\u001b[0m\u001b[0;34m'death'\u001b[0m\u001b[0;34m)\u001b[0m\u001b[0;34m\u001b[0m\u001b[0;34m\u001b[0m\u001b[0m\n\u001b[1;32m      4\u001b[0m \u001b[0mrecall_eval\u001b[0m \u001b[0;34m=\u001b[0m \u001b[0mMulticlassClassificationEvaluator\u001b[0m\u001b[0;34m(\u001b[0m\u001b[0mpredictionCol\u001b[0m\u001b[0;34m=\u001b[0m\u001b[0;34m'prediction'\u001b[0m\u001b[0;34m,\u001b[0m\u001b[0mmetricName\u001b[0m\u001b[0;34m=\u001b[0m\u001b[0;34m'weightedRecall'\u001b[0m\u001b[0;34m,\u001b[0m \u001b[0mlabelCol\u001b[0m\u001b[0;34m=\u001b[0m\u001b[0;34m'death'\u001b[0m\u001b[0;34m)\u001b[0m\u001b[0;34m\u001b[0m\u001b[0;34m\u001b[0m\u001b[0m\n\u001b[1;32m      5\u001b[0m \u001b[0mf1_eval\u001b[0m \u001b[0;34m=\u001b[0m \u001b[0mMulticlassClassificationEvaluator\u001b[0m\u001b[0;34m(\u001b[0m\u001b[0mpredictionCol\u001b[0m\u001b[0;34m=\u001b[0m\u001b[0;34m'prediction'\u001b[0m\u001b[0;34m,\u001b[0m\u001b[0mmetricName\u001b[0m\u001b[0;34m=\u001b[0m\u001b[0;34m'f1'\u001b[0m\u001b[0;34m,\u001b[0m \u001b[0mlabelCol\u001b[0m\u001b[0;34m=\u001b[0m\u001b[0;34m'death'\u001b[0m\u001b[0;34m)\u001b[0m\u001b[0;34m\u001b[0m\u001b[0;34m\u001b[0m\u001b[0m\n",
            "\u001b[0;31mNameError\u001b[0m: name 'dt_model' is not defined"
          ]
        }
      ],
      "metadata": {
        "jupyter": {
          "source_hidden": false,
          "outputs_hidden": false
        },
        "nteract": {
          "transient": {
            "deleting": false
          }
        }
      },
      "source": [
        "dt_preds = dt_model.transform(test_data)\r\n",
        "accuracy_eval = MulticlassClassificationEvaluator(predictionCol='prediction',metricName='accuracy', labelCol='death')\r\n",
        "precision_eval = MulticlassClassificationEvaluator(predictionCol='prediction',metricName='weightedPrecision', labelCol='death')\r\n",
        "recall_eval = MulticlassClassificationEvaluator(predictionCol='prediction',metricName='weightedRecall', labelCol='death')\r\n",
        "f1_eval = MulticlassClassificationEvaluator(predictionCol='prediction',metricName='f1', labelCol='death')\r\n",
        "accuracy = accuracy_eval.evaluate(dt_preds)\r\n",
        "precision = precision_eval.evaluate(dt_preds)\r\n",
        "recall = recall_eval.evaluate(dt_preds)\r\n",
        "f1 = f1_eval.evaluate(dt_preds)\r\n",
        "print('accuracy:')\r\n",
        "print(accuracy)\r\n",
        "print('precision:')\r\n",
        "print(precision)\r\n",
        "print('recall:')\r\n",
        "print(recall)\r\n",
        "print('f1:')\r\n",
        "print(f1)"
      ]
    }
  ]
}