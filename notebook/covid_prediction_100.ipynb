{
  "nbformat": 4,
  "nbformat_minor": 2,
  "cells": [
    {
      "cell_type": "code",
      "execution_count": 15,
      "outputs": [],
      "metadata": {},
      "source": [
        "import numpy as np\r\n",
        "from pyspark.sql.functions import *\r\n",
        "from pyspark.sql.types import *\r\n",
        "from pyspark.ml.feature import StringIndexer\r\n",
        "from matplotlib import pyplot as plt"
      ]
    },
    {
      "cell_type": "code",
      "execution_count": 16,
      "outputs": [],
      "metadata": {
        "jupyter": {
          "source_hidden": false,
          "outputs_hidden": false
        },
        "nteract": {
          "transient": {
            "deleting": false
          }
        }
      },
      "source": [
        "## Reading Data\r\n",
        "df = spark.read.load('abfss://fixme@fixmeadlsstorage.dfs.core.windows.net/covid_data.csv', format='csv',header='true')"
      ]
    },
    {
      "cell_type": "code",
      "execution_count": 17,
      "outputs": [],
      "metadata": {
        "jupyter": {
          "source_hidden": false,
          "outputs_hidden": false
        },
        "nteract": {
          "transient": {
            "deleting": false
          }
        }
      },
      "source": [
        "df.describe().toPandas()"
      ]
    },
    {
      "cell_type": "code",
      "execution_count": 18,
      "outputs": [],
      "metadata": {
        "jupyter": {
          "source_hidden": false,
          "outputs_hidden": false
        },
        "nteract": {
          "transient": {
            "deleting": false
          }
        }
      },
      "source": [
        "string_indexer = StringIndexer(inputCols=['location','country', 'gender', 'symptom1', 'symptom2', 'symptom3', 'symptom4','symptom5','symptom6'], \r\n",
        "outputCols=['location_indexed','country_indexed', 'gender_indexed', 'symptom1_indexed', 'symptom2_indexed', 'symptom3_indexed', 'symptom4_indexed','symptom5_indexed','symptom6_indexed'])\r\n",
        "df = string_indexer.fit(df).transform(df)\r\n",
        "df.columns"
      ]
    },
    {
      "cell_type": "code",
      "execution_count": 19,
      "outputs": [],
      "metadata": {
        "jupyter": {
          "source_hidden": false,
          "outputs_hidden": false
        },
        "nteract": {
          "transient": {
            "deleting": false
          }
        }
      },
      "source": [
        "diff_sym_hos = unix_timestamp(col(\"hosp_vis\"),\"M/d/yyyy\")-unix_timestamp(col(\"sym_on\"),\"M/d/yyyy\")\r\n",
        "df = df.withColumn('diff_sym_hos', diff_sym_hos)"
      ]
    },
    {
      "cell_type": "code",
      "execution_count": 20,
      "outputs": [],
      "metadata": {
        "jupyter": {
          "source_hidden": false,
          "outputs_hidden": false
        },
        "nteract": {
          "transient": {
            "deleting": false
          }
        }
      },
      "source": [
        "df.printSchema()"
      ]
    },
    {
      "cell_type": "code",
      "execution_count": 21,
      "outputs": [],
      "metadata": {
        "jupyter": {
          "source_hidden": false,
          "outputs_hidden": false
        },
        "nteract": {
          "transient": {
            "deleting": false
          }
        }
      },
      "source": [
        "df = df.withColumn(\"age\", col(\"age\").cast(\"Integer\"))\r\n",
        "df = df.withColumn(\"vis_wuhan\", col(\"vis_wuhan\").cast(\"Integer\"))\r\n",
        "df = df.withColumn(\"from_wuhan\", col(\"from_wuhan\").cast(\"Integer\"))\r\n",
        "df = df.withColumn(\"death\", col(\"death\").cast(\"Integer\"))\r\n",
        "df = df.fillna(value=50, subset=['age'])\r\n",
        "df.printSchema()"
      ]
    },
    {
      "cell_type": "code",
      "execution_count": 22,
      "outputs": [],
      "metadata": {
        "jupyter": {
          "source_hidden": false,
          "outputs_hidden": false
        },
        "nteract": {
          "transient": {
            "deleting": false
          }
        }
      },
      "source": [
        "df = df.fillna(np.nan)\r\n",
        "df.limit(10)"
      ]
    },
    {
      "cell_type": "code",
      "execution_count": 23,
      "outputs": [],
      "metadata": {
        "jupyter": {
          "source_hidden": false,
          "outputs_hidden": false
        },
        "nteract": {
          "transient": {
            "deleting": false
          }
        }
      },
      "source": [
        "df = df.drop('id', 'location', 'gender', 'country', 'sym_on', 'hosp_vis', 'symptom1', 'symptom2', 'symptom3', 'symptom4', 'symptom5', 'symptom6')"
      ]
    },
    {
      "cell_type": "code",
      "execution_count": 24,
      "outputs": [],
      "metadata": {
        "jupyter": {
          "source_hidden": false,
          "outputs_hidden": false
        },
        "nteract": {
          "transient": {
            "deleting": false
          }
        }
      },
      "source": [
        "input_features = ['location_indexed','country_indexed','gender_indexed','age','vis_wuhan','from_wuhan','symptom1_indexed','symptom2_indexed','symptom3_indexed','symptom4_indexed','symptom5_indexed','symptom6_indexed','diff_sym_hos']\r\n",
        ""
      ]
    },
    {
      "cell_type": "code",
      "execution_count": 26,
      "outputs": [],
      "metadata": {
        "jupyter": {
          "source_hidden": false,
          "outputs_hidden": false
        },
        "nteract": {
          "transient": {
            "deleting": false
          }
        }
      },
      "source": [
        "from sklearn.tree import DecisionTreeClassifier\r\n",
        "from sklearn.model_selection import train_test_split\r\n",
        "from sklearn.tree import plot_tree\r\n",
        "from sklearn import metrics"
      ]
    },
    {
      "cell_type": "code",
      "execution_count": 25,
      "outputs": [],
      "metadata": {
        "jupyter": {
          "source_hidden": false,
          "outputs_hidden": false
        },
        "nteract": {
          "transient": {
            "deleting": false
          }
        }
      },
      "source": [
        "df = df.toPandas()\r\n",
        "input_cols = df[input_features]\r\n",
        "label = df.death\r\n",
        "X_train, X_test, y_train, y_test = train_test_split(input_cols, label, test_size=0.2, random_state=10)\r\n",
        "#train_data,test_data = transformed_data.randomSplit([0.8,0.2])\r\n",
        "dt = DecisionTreeClassifier(max_depth=2).fit(X_train, y_train)\r\n",
        ""
      ]
    },
    {
      "cell_type": "code",
      "execution_count": 13,
      "outputs": [],
      "metadata": {
        "jupyter": {
          "source_hidden": false,
          "outputs_hidden": false
        },
        "nteract": {
          "transient": {
            "deleting": false
          }
        }
      },
      "source": [
        "plot_tree(dt, filled=True)\r\n",
        "plt.title(\"Decision tree trained on all the Covid Data\")\r\n",
        "plt.show()\r\n",
        "# plt.savefig() GIVE THE PATH"
      ]
    },
    {
      "cell_type": "code",
      "execution_count": 27,
      "outputs": [],
      "metadata": {
        "jupyter": {
          "source_hidden": false,
          "outputs_hidden": false
        },
        "nteract": {
          "transient": {
            "deleting": false
          }
        }
      },
      "source": [
        "y_pred = dt.predict(X_test)\r\n",
        "accuracy = metrics.accuracy_score(y_test, y_pred)\r\n",
        "precision = metrics.precision_score(y_test, y_pred)\r\n",
        "recall = metrics.recall_score(y_test, y_pred)\r\n",
        "f1 = metrics.f1_score(y_test, y_pred)\r\n",
        "print(\"Accuracy:\",accuracy)\r\n",
        "print(\"Precision:\", precision)\r\n",
        "print(\"Recall:\", recall)\r\n",
        "print(\"F1:\", f1)"
      ]
    },
    {
      "cell_type": "code",
      "execution_count": 29,
      "outputs": [],
      "metadata": {
        "jupyter": {
          "source_hidden": false,
          "outputs_hidden": false
        },
        "nteract": {
          "transient": {
            "deleting": false
          }
        }
      },
      "source": [
        "plt.bar(['Accuracy','F1 Score','Recall Score','Precision Score'],[accuracy,f1,recall,precision],color=['red','green','blue','yellow'])\r\n",
        "plt.plot([accuracy,f1,recall,precision],color='black')\r\n",
        "plt.title('Evaluation Metrics for Decision Tree')"
      ]
    },
    {
      "cell_type": "code",
      "execution_count": 14,
      "outputs": [],
      "metadata": {
        "jupyter": {
          "source_hidden": false,
          "outputs_hidden": false
        },
        "nteract": {
          "transient": {
            "deleting": false
          }
        }
      },
      "source": [
        "dt_preds = dt_model.transform(test_data)\r\n",
        "accuracy_eval = MulticlassClassificationEvaluator(predictionCol='prediction',metricName='accuracy', labelCol='death')\r\n",
        "precision_eval = MulticlassClassificationEvaluator(predictionCol='prediction',metricName='weightedPrecision', labelCol='death')\r\n",
        "recall_eval = MulticlassClassificationEvaluator(predictionCol='prediction',metricName='weightedRecall', labelCol='death')\r\n",
        "f1_eval = MulticlassClassificationEvaluator(predictionCol='prediction',metricName='f1', labelCol='death')\r\n",
        "accuracy = accuracy_eval.evaluate(dt_preds)\r\n",
        "precision = precision_eval.evaluate(dt_preds)\r\n",
        "recall = recall_eval.evaluate(dt_preds)\r\n",
        "f1 = f1_eval.evaluate(dt_preds)\r\n",
        "print('accuracy:')\r\n",
        "print(accuracy)\r\n",
        "print('precision:')\r\n",
        "print(precision)\r\n",
        "print('recall:')\r\n",
        "print(recall)\r\n",
        "print('f1:')\r\n",
        "print(f1)"
      ]
    }
  ],
  "metadata": {
    "description": null,
    "save_output": true,
    "kernelspec": {
      "name": "synapse_pyspark",
      "display_name": "Synapse PySpark"
    },
    "language_info": {
      "name": "python"
    }
  }
}